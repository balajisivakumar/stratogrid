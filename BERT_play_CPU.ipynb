{
  "nbformat": 4,
  "nbformat_minor": 0,
  "metadata": {
    "colab": {
      "provenance": [],
      "authorship_tag": "ABX9TyOyjJ0hgJm2X9YO2WSIuUiq",
      "include_colab_link": true
    },
    "kernelspec": {
      "name": "python3",
      "display_name": "Python 3"
    },
    "language_info": {
      "name": "python"
    }
  },
  "cells": [
    {
      "cell_type": "markdown",
      "metadata": {
        "id": "view-in-github",
        "colab_type": "text"
      },
      "source": [
        "<a href=\"https://colab.research.google.com/github/balajisivakumar/stratogrid/blob/main/BERT_play_CPU.ipynb\" target=\"_parent\"><img src=\"https://colab.research.google.com/assets/colab-badge.svg\" alt=\"Open In Colab\"/></a>"
      ]
    },
    {
      "cell_type": "code",
      "execution_count": 6,
      "metadata": {
        "colab": {
          "base_uri": "https://localhost:8080/"
        },
        "id": "R5fUSBTWZ3Ib",
        "outputId": "91010972-e9f5-4f1b-a333-5cb7f6e5376f"
      },
      "outputs": [
        {
          "output_type": "stream",
          "name": "stdout",
          "text": [
            "Found existing installation: torch 2.5.1\n",
            "Uninstalling torch-2.5.1:\n",
            "  Successfully uninstalled torch-2.5.1\n",
            "Found existing installation: torchvision 0.20.1\n",
            "Uninstalling torchvision-0.20.1:\n",
            "  Successfully uninstalled torchvision-0.20.1\n",
            "Found existing installation: timm 1.0.15\n",
            "Uninstalling timm-1.0.15:\n",
            "  Successfully uninstalled timm-1.0.15\n",
            "Found existing installation: fastai 2.7.18\n",
            "Uninstalling fastai-2.7.18:\n",
            "  Successfully uninstalled fastai-2.7.18\n",
            "\u001b[33mWARNING: Skipping torch as it is not installed.\u001b[0m\u001b[33m\n",
            "\u001b[0m\u001b[33mWARNING: Skipping torchvision as it is not installed.\u001b[0m\u001b[33m\n",
            "\u001b[0mFound existing installation: torchaudio 2.6.0\n",
            "Uninstalling torchaudio-2.6.0:\n",
            "  Successfully uninstalled torchaudio-2.6.0\n"
          ]
        }
      ],
      "source": [
        "!pip uninstall torch torchvision timm fastai -y\n",
        "!pip uninstall torch torchvision torchaudio -y\n"
      ]
    },
    {
      "cell_type": "code",
      "source": [
        "!pip uninstall torch torchvision timm fastai -y\n",
        "!pip install torch==2.6.0 torchvision==0.17.0 torchaudio==2.6.0 --no-cache-dir\n",
        "!pip install timm fastai\n",
        "!pip install transformers scikit-learn numpy scipy matplotlib\n",
        "!pip install minisom\n",
        "!pip install sentence-transformers --no-cache-dir\n"
      ],
      "metadata": {
        "colab": {
          "base_uri": "https://localhost:8080/",
          "height": 1000
        },
        "id": "qw7sCHWwaEu7",
        "outputId": "d15ec0c7-4dd5-4ca7-e762-37c1b59c2131"
      },
      "execution_count": 7,
      "outputs": [
        {
          "output_type": "stream",
          "name": "stdout",
          "text": [
            "\u001b[33mWARNING: Skipping torch as it is not installed.\u001b[0m\u001b[33m\n",
            "\u001b[0m\u001b[33mWARNING: Skipping torchvision as it is not installed.\u001b[0m\u001b[33m\n",
            "\u001b[0m\u001b[33mWARNING: Skipping timm as it is not installed.\u001b[0m\u001b[33m\n",
            "\u001b[0m\u001b[33mWARNING: Skipping fastai as it is not installed.\u001b[0m\u001b[33m\n",
            "\u001b[0mCollecting torch==2.6.0\n",
            "  Downloading torch-2.6.0-cp311-cp311-manylinux1_x86_64.whl.metadata (28 kB)\n",
            "Collecting torchvision==0.17.0\n",
            "  Downloading torchvision-0.17.0-cp311-cp311-manylinux1_x86_64.whl.metadata (6.6 kB)\n",
            "Collecting torchaudio==2.6.0\n",
            "  Downloading torchaudio-2.6.0-cp311-cp311-manylinux1_x86_64.whl.metadata (6.6 kB)\n",
            "Requirement already satisfied: filelock in /usr/local/lib/python3.11/dist-packages (from torch==2.6.0) (3.17.0)\n",
            "Requirement already satisfied: typing-extensions>=4.10.0 in /usr/local/lib/python3.11/dist-packages (from torch==2.6.0) (4.12.2)\n",
            "Requirement already satisfied: networkx in /usr/local/lib/python3.11/dist-packages (from torch==2.6.0) (3.4.2)\n",
            "Requirement already satisfied: jinja2 in /usr/local/lib/python3.11/dist-packages (from torch==2.6.0) (3.1.5)\n",
            "Requirement already satisfied: fsspec in /usr/local/lib/python3.11/dist-packages (from torch==2.6.0) (2024.10.0)\n",
            "Requirement already satisfied: nvidia-cuda-nvrtc-cu12==12.4.127 in /usr/local/lib/python3.11/dist-packages (from torch==2.6.0) (12.4.127)\n",
            "Requirement already satisfied: nvidia-cuda-runtime-cu12==12.4.127 in /usr/local/lib/python3.11/dist-packages (from torch==2.6.0) (12.4.127)\n",
            "Requirement already satisfied: nvidia-cuda-cupti-cu12==12.4.127 in /usr/local/lib/python3.11/dist-packages (from torch==2.6.0) (12.4.127)\n",
            "Requirement already satisfied: nvidia-cudnn-cu12==9.1.0.70 in /usr/local/lib/python3.11/dist-packages (from torch==2.6.0) (9.1.0.70)\n",
            "Requirement already satisfied: nvidia-cublas-cu12==12.4.5.8 in /usr/local/lib/python3.11/dist-packages (from torch==2.6.0) (12.4.5.8)\n",
            "Requirement already satisfied: nvidia-cufft-cu12==11.2.1.3 in /usr/local/lib/python3.11/dist-packages (from torch==2.6.0) (11.2.1.3)\n",
            "Requirement already satisfied: nvidia-curand-cu12==10.3.5.147 in /usr/local/lib/python3.11/dist-packages (from torch==2.6.0) (10.3.5.147)\n",
            "Requirement already satisfied: nvidia-cusolver-cu12==11.6.1.9 in /usr/local/lib/python3.11/dist-packages (from torch==2.6.0) (11.6.1.9)\n",
            "Requirement already satisfied: nvidia-cusparse-cu12==12.3.1.170 in /usr/local/lib/python3.11/dist-packages (from torch==2.6.0) (12.3.1.170)\n",
            "Requirement already satisfied: nvidia-cusparselt-cu12==0.6.2 in /usr/local/lib/python3.11/dist-packages (from torch==2.6.0) (0.6.2)\n",
            "Requirement already satisfied: nvidia-nccl-cu12==2.21.5 in /usr/local/lib/python3.11/dist-packages (from torch==2.6.0) (2.21.5)\n",
            "Requirement already satisfied: nvidia-nvtx-cu12==12.4.127 in /usr/local/lib/python3.11/dist-packages (from torch==2.6.0) (12.4.127)\n",
            "Requirement already satisfied: nvidia-nvjitlink-cu12==12.4.127 in /usr/local/lib/python3.11/dist-packages (from torch==2.6.0) (12.4.127)\n",
            "Collecting triton==3.2.0 (from torch==2.6.0)\n",
            "  Downloading triton-3.2.0-cp311-cp311-manylinux_2_17_x86_64.manylinux2014_x86_64.whl.metadata (1.4 kB)\n",
            "Requirement already satisfied: sympy==1.13.1 in /usr/local/lib/python3.11/dist-packages (from torch==2.6.0) (1.13.1)\n",
            "Requirement already satisfied: numpy in /usr/local/lib/python3.11/dist-packages (from torchvision==0.17.0) (1.26.4)\n",
            "Requirement already satisfied: requests in /usr/local/lib/python3.11/dist-packages (from torchvision==0.17.0) (2.32.3)\n",
            "INFO: pip is looking at multiple versions of torchvision to determine which version is compatible with other requirements. This could take a while.\n",
            "\u001b[31mERROR: Cannot install torch==2.6.0 and torchvision==0.17.0 because these package versions have conflicting dependencies.\u001b[0m\u001b[31m\n",
            "\u001b[0m\n",
            "The conflict is caused by:\n",
            "    The user requested torch==2.6.0\n",
            "    torchvision 0.17.0 depends on torch==2.2.0\n",
            "\n",
            "To fix this you could try to:\n",
            "1. loosen the range of package versions you've specified\n",
            "2. remove package versions to allow pip to attempt to solve the dependency conflict\n",
            "\n",
            "\u001b[31mERROR: ResolutionImpossible: for help visit https://pip.pypa.io/en/latest/topics/dependency-resolution/#dealing-with-dependency-conflicts\u001b[0m\u001b[31m\n",
            "\u001b[0mCollecting timm\n",
            "  Using cached timm-1.0.15-py3-none-any.whl.metadata (52 kB)\n",
            "Collecting fastai\n",
            "  Using cached fastai-2.7.18-py3-none-any.whl.metadata (9.1 kB)\n",
            "Collecting torch (from timm)\n",
            "  Downloading torch-2.6.0-cp311-cp311-manylinux1_x86_64.whl.metadata (28 kB)\n",
            "Collecting torchvision (from timm)\n",
            "  Downloading torchvision-0.21.0-cp311-cp311-manylinux1_x86_64.whl.metadata (6.1 kB)\n",
            "Requirement already satisfied: pyyaml in /usr/local/lib/python3.11/dist-packages (from timm) (6.0.2)\n",
            "Requirement already satisfied: huggingface_hub in /usr/local/lib/python3.11/dist-packages (from timm) (0.28.1)\n",
            "Requirement already satisfied: safetensors in /usr/local/lib/python3.11/dist-packages (from timm) (0.5.3)\n",
            "Requirement already satisfied: pip in /usr/local/lib/python3.11/dist-packages (from fastai) (24.1.2)\n",
            "Requirement already satisfied: packaging in /usr/local/lib/python3.11/dist-packages (from fastai) (24.2)\n",
            "Requirement already satisfied: fastdownload<2,>=0.0.5 in /usr/local/lib/python3.11/dist-packages (from fastai) (0.0.7)\n",
            "Requirement already satisfied: fastcore<1.8,>=1.5.29 in /usr/local/lib/python3.11/dist-packages (from fastai) (1.7.29)\n",
            "Requirement already satisfied: matplotlib in /usr/local/lib/python3.11/dist-packages (from fastai) (3.10.0)\n",
            "Requirement already satisfied: pandas in /usr/local/lib/python3.11/dist-packages (from fastai) (2.2.2)\n",
            "Requirement already satisfied: requests in /usr/local/lib/python3.11/dist-packages (from fastai) (2.32.3)\n",
            "Requirement already satisfied: fastprogress>=0.2.4 in /usr/local/lib/python3.11/dist-packages (from fastai) (1.0.3)\n",
            "Requirement already satisfied: pillow>=9.0.0 in /usr/local/lib/python3.11/dist-packages (from fastai) (11.1.0)\n",
            "Requirement already satisfied: scikit-learn in /usr/local/lib/python3.11/dist-packages (from fastai) (1.6.1)\n",
            "Requirement already satisfied: scipy in /usr/local/lib/python3.11/dist-packages (from fastai) (1.13.1)\n",
            "Requirement already satisfied: spacy<4 in /usr/local/lib/python3.11/dist-packages (from fastai) (3.7.5)\n",
            "Collecting torch (from timm)\n",
            "  Using cached torch-2.5.1-cp311-cp311-manylinux1_x86_64.whl.metadata (28 kB)\n",
            "Requirement already satisfied: spacy-legacy<3.1.0,>=3.0.11 in /usr/local/lib/python3.11/dist-packages (from spacy<4->fastai) (3.0.12)\n",
            "Requirement already satisfied: spacy-loggers<2.0.0,>=1.0.0 in /usr/local/lib/python3.11/dist-packages (from spacy<4->fastai) (1.0.5)\n",
            "Requirement already satisfied: murmurhash<1.1.0,>=0.28.0 in /usr/local/lib/python3.11/dist-packages (from spacy<4->fastai) (1.0.12)\n",
            "Requirement already satisfied: cymem<2.1.0,>=2.0.2 in /usr/local/lib/python3.11/dist-packages (from spacy<4->fastai) (2.0.11)\n",
            "Requirement already satisfied: preshed<3.1.0,>=3.0.2 in /usr/local/lib/python3.11/dist-packages (from spacy<4->fastai) (3.0.9)\n",
            "Requirement already satisfied: thinc<8.3.0,>=8.2.2 in /usr/local/lib/python3.11/dist-packages (from spacy<4->fastai) (8.2.5)\n",
            "Requirement already satisfied: wasabi<1.2.0,>=0.9.1 in /usr/local/lib/python3.11/dist-packages (from spacy<4->fastai) (1.1.3)\n",
            "Requirement already satisfied: srsly<3.0.0,>=2.4.3 in /usr/local/lib/python3.11/dist-packages (from spacy<4->fastai) (2.5.1)\n",
            "Requirement already satisfied: catalogue<2.1.0,>=2.0.6 in /usr/local/lib/python3.11/dist-packages (from spacy<4->fastai) (2.0.10)\n",
            "Requirement already satisfied: weasel<0.5.0,>=0.1.0 in /usr/local/lib/python3.11/dist-packages (from spacy<4->fastai) (0.4.1)\n",
            "Requirement already satisfied: typer<1.0.0,>=0.3.0 in /usr/local/lib/python3.11/dist-packages (from spacy<4->fastai) (0.15.2)\n",
            "Requirement already satisfied: tqdm<5.0.0,>=4.38.0 in /usr/local/lib/python3.11/dist-packages (from spacy<4->fastai) (4.67.1)\n",
            "Requirement already satisfied: pydantic!=1.8,!=1.8.1,<3.0.0,>=1.7.4 in /usr/local/lib/python3.11/dist-packages (from spacy<4->fastai) (2.10.6)\n",
            "Requirement already satisfied: jinja2 in /usr/local/lib/python3.11/dist-packages (from spacy<4->fastai) (3.1.5)\n",
            "Requirement already satisfied: setuptools in /usr/local/lib/python3.11/dist-packages (from spacy<4->fastai) (75.1.0)\n",
            "Requirement already satisfied: langcodes<4.0.0,>=3.2.0 in /usr/local/lib/python3.11/dist-packages (from spacy<4->fastai) (3.5.0)\n",
            "Requirement already satisfied: numpy>=1.19.0 in /usr/local/lib/python3.11/dist-packages (from spacy<4->fastai) (1.26.4)\n",
            "Requirement already satisfied: charset-normalizer<4,>=2 in /usr/local/lib/python3.11/dist-packages (from requests->fastai) (3.4.1)\n",
            "Requirement already satisfied: idna<4,>=2.5 in /usr/local/lib/python3.11/dist-packages (from requests->fastai) (3.10)\n",
            "Requirement already satisfied: urllib3<3,>=1.21.1 in /usr/local/lib/python3.11/dist-packages (from requests->fastai) (2.3.0)\n",
            "Requirement already satisfied: certifi>=2017.4.17 in /usr/local/lib/python3.11/dist-packages (from requests->fastai) (2025.1.31)\n",
            "Requirement already satisfied: filelock in /usr/local/lib/python3.11/dist-packages (from torch->timm) (3.17.0)\n",
            "Requirement already satisfied: typing-extensions>=4.8.0 in /usr/local/lib/python3.11/dist-packages (from torch->timm) (4.12.2)\n",
            "Requirement already satisfied: networkx in /usr/local/lib/python3.11/dist-packages (from torch->timm) (3.4.2)\n",
            "Requirement already satisfied: fsspec in /usr/local/lib/python3.11/dist-packages (from torch->timm) (2024.10.0)\n",
            "Requirement already satisfied: nvidia-cuda-nvrtc-cu12==12.4.127 in /usr/local/lib/python3.11/dist-packages (from torch->timm) (12.4.127)\n",
            "Requirement already satisfied: nvidia-cuda-runtime-cu12==12.4.127 in /usr/local/lib/python3.11/dist-packages (from torch->timm) (12.4.127)\n",
            "Requirement already satisfied: nvidia-cuda-cupti-cu12==12.4.127 in /usr/local/lib/python3.11/dist-packages (from torch->timm) (12.4.127)\n",
            "Requirement already satisfied: nvidia-cudnn-cu12==9.1.0.70 in /usr/local/lib/python3.11/dist-packages (from torch->timm) (9.1.0.70)\n",
            "Requirement already satisfied: nvidia-cublas-cu12==12.4.5.8 in /usr/local/lib/python3.11/dist-packages (from torch->timm) (12.4.5.8)\n",
            "Requirement already satisfied: nvidia-cufft-cu12==11.2.1.3 in /usr/local/lib/python3.11/dist-packages (from torch->timm) (11.2.1.3)\n",
            "Requirement already satisfied: nvidia-curand-cu12==10.3.5.147 in /usr/local/lib/python3.11/dist-packages (from torch->timm) (10.3.5.147)\n",
            "Requirement already satisfied: nvidia-cusolver-cu12==11.6.1.9 in /usr/local/lib/python3.11/dist-packages (from torch->timm) (11.6.1.9)\n",
            "Requirement already satisfied: nvidia-cusparse-cu12==12.3.1.170 in /usr/local/lib/python3.11/dist-packages (from torch->timm) (12.3.1.170)\n",
            "Requirement already satisfied: nvidia-nccl-cu12==2.21.5 in /usr/local/lib/python3.11/dist-packages (from torch->timm) (2.21.5)\n",
            "Requirement already satisfied: nvidia-nvtx-cu12==12.4.127 in /usr/local/lib/python3.11/dist-packages (from torch->timm) (12.4.127)\n",
            "Requirement already satisfied: nvidia-nvjitlink-cu12==12.4.127 in /usr/local/lib/python3.11/dist-packages (from torch->timm) (12.4.127)\n",
            "Requirement already satisfied: triton==3.1.0 in /usr/local/lib/python3.11/dist-packages (from torch->timm) (3.1.0)\n",
            "Requirement already satisfied: sympy==1.13.1 in /usr/local/lib/python3.11/dist-packages (from torch->timm) (1.13.1)\n",
            "Requirement already satisfied: mpmath<1.4,>=1.1.0 in /usr/local/lib/python3.11/dist-packages (from sympy==1.13.1->torch->timm) (1.3.0)\n",
            "INFO: pip is looking at multiple versions of torchvision to determine which version is compatible with other requirements. This could take a while.\n",
            "Collecting torchvision (from timm)\n",
            "  Using cached torchvision-0.20.1-cp311-cp311-manylinux1_x86_64.whl.metadata (6.1 kB)\n",
            "Requirement already satisfied: contourpy>=1.0.1 in /usr/local/lib/python3.11/dist-packages (from matplotlib->fastai) (1.3.1)\n",
            "Requirement already satisfied: cycler>=0.10 in /usr/local/lib/python3.11/dist-packages (from matplotlib->fastai) (0.12.1)\n",
            "Requirement already satisfied: fonttools>=4.22.0 in /usr/local/lib/python3.11/dist-packages (from matplotlib->fastai) (4.56.0)\n",
            "Requirement already satisfied: kiwisolver>=1.3.1 in /usr/local/lib/python3.11/dist-packages (from matplotlib->fastai) (1.4.8)\n",
            "Requirement already satisfied: pyparsing>=2.3.1 in /usr/local/lib/python3.11/dist-packages (from matplotlib->fastai) (3.2.1)\n",
            "Requirement already satisfied: python-dateutil>=2.7 in /usr/local/lib/python3.11/dist-packages (from matplotlib->fastai) (2.8.2)\n",
            "Requirement already satisfied: pytz>=2020.1 in /usr/local/lib/python3.11/dist-packages (from pandas->fastai) (2025.1)\n",
            "Requirement already satisfied: tzdata>=2022.7 in /usr/local/lib/python3.11/dist-packages (from pandas->fastai) (2025.1)\n",
            "Requirement already satisfied: joblib>=1.2.0 in /usr/local/lib/python3.11/dist-packages (from scikit-learn->fastai) (1.4.2)\n",
            "Requirement already satisfied: threadpoolctl>=3.1.0 in /usr/local/lib/python3.11/dist-packages (from scikit-learn->fastai) (3.5.0)\n",
            "Requirement already satisfied: language-data>=1.2 in /usr/local/lib/python3.11/dist-packages (from langcodes<4.0.0,>=3.2.0->spacy<4->fastai) (1.3.0)\n",
            "Requirement already satisfied: annotated-types>=0.6.0 in /usr/local/lib/python3.11/dist-packages (from pydantic!=1.8,!=1.8.1,<3.0.0,>=1.7.4->spacy<4->fastai) (0.7.0)\n",
            "Requirement already satisfied: pydantic-core==2.27.2 in /usr/local/lib/python3.11/dist-packages (from pydantic!=1.8,!=1.8.1,<3.0.0,>=1.7.4->spacy<4->fastai) (2.27.2)\n",
            "Requirement already satisfied: six>=1.5 in /usr/local/lib/python3.11/dist-packages (from python-dateutil>=2.7->matplotlib->fastai) (1.17.0)\n",
            "Requirement already satisfied: blis<0.8.0,>=0.7.8 in /usr/local/lib/python3.11/dist-packages (from thinc<8.3.0,>=8.2.2->spacy<4->fastai) (0.7.11)\n",
            "Requirement already satisfied: confection<1.0.0,>=0.0.1 in /usr/local/lib/python3.11/dist-packages (from thinc<8.3.0,>=8.2.2->spacy<4->fastai) (0.1.5)\n",
            "Requirement already satisfied: click>=8.0.0 in /usr/local/lib/python3.11/dist-packages (from typer<1.0.0,>=0.3.0->spacy<4->fastai) (8.1.8)\n",
            "Requirement already satisfied: shellingham>=1.3.0 in /usr/local/lib/python3.11/dist-packages (from typer<1.0.0,>=0.3.0->spacy<4->fastai) (1.5.4)\n",
            "Requirement already satisfied: rich>=10.11.0 in /usr/local/lib/python3.11/dist-packages (from typer<1.0.0,>=0.3.0->spacy<4->fastai) (13.9.4)\n",
            "Requirement already satisfied: cloudpathlib<1.0.0,>=0.7.0 in /usr/local/lib/python3.11/dist-packages (from weasel<0.5.0,>=0.1.0->spacy<4->fastai) (0.20.0)\n",
            "Requirement already satisfied: smart-open<8.0.0,>=5.2.1 in /usr/local/lib/python3.11/dist-packages (from weasel<0.5.0,>=0.1.0->spacy<4->fastai) (7.1.0)\n",
            "Requirement already satisfied: MarkupSafe>=2.0 in /usr/local/lib/python3.11/dist-packages (from jinja2->spacy<4->fastai) (3.0.2)\n",
            "Requirement already satisfied: marisa-trie>=1.1.0 in /usr/local/lib/python3.11/dist-packages (from language-data>=1.2->langcodes<4.0.0,>=3.2.0->spacy<4->fastai) (1.2.1)\n",
            "Requirement already satisfied: markdown-it-py>=2.2.0 in /usr/local/lib/python3.11/dist-packages (from rich>=10.11.0->typer<1.0.0,>=0.3.0->spacy<4->fastai) (3.0.0)\n",
            "Requirement already satisfied: pygments<3.0.0,>=2.13.0 in /usr/local/lib/python3.11/dist-packages (from rich>=10.11.0->typer<1.0.0,>=0.3.0->spacy<4->fastai) (2.18.0)\n",
            "Requirement already satisfied: wrapt in /usr/local/lib/python3.11/dist-packages (from smart-open<8.0.0,>=5.2.1->weasel<0.5.0,>=0.1.0->spacy<4->fastai) (1.17.2)\n",
            "Requirement already satisfied: mdurl~=0.1 in /usr/local/lib/python3.11/dist-packages (from markdown-it-py>=2.2.0->rich>=10.11.0->typer<1.0.0,>=0.3.0->spacy<4->fastai) (0.1.2)\n",
            "Using cached timm-1.0.15-py3-none-any.whl (2.4 MB)\n",
            "Using cached fastai-2.7.18-py3-none-any.whl (234 kB)\n",
            "Using cached torch-2.5.1-cp311-cp311-manylinux1_x86_64.whl (906.5 MB)\n",
            "Using cached torchvision-0.20.1-cp311-cp311-manylinux1_x86_64.whl (7.2 MB)\n",
            "Installing collected packages: torch, torchvision, timm, fastai\n",
            "Successfully installed fastai-2.7.18 timm-1.0.15 torch-2.5.1 torchvision-0.20.1\n"
          ]
        },
        {
          "output_type": "display_data",
          "data": {
            "application/vnd.colab-display-data+json": {
              "pip_warning": {
                "packages": [
                  "fastai",
                  "torch",
                  "torchgen",
                  "torchvision"
                ]
              },
              "id": "8dfe959f04c84e19a0255b0366380e24"
            }
          },
          "metadata": {}
        },
        {
          "output_type": "stream",
          "name": "stdout",
          "text": [
            "Requirement already satisfied: transformers in /usr/local/lib/python3.11/dist-packages (4.48.3)\n",
            "Requirement already satisfied: scikit-learn in /usr/local/lib/python3.11/dist-packages (1.6.1)\n",
            "Requirement already satisfied: numpy in /usr/local/lib/python3.11/dist-packages (1.26.4)\n",
            "Requirement already satisfied: scipy in /usr/local/lib/python3.11/dist-packages (1.13.1)\n",
            "Requirement already satisfied: matplotlib in /usr/local/lib/python3.11/dist-packages (3.10.0)\n",
            "Requirement already satisfied: filelock in /usr/local/lib/python3.11/dist-packages (from transformers) (3.17.0)\n",
            "Requirement already satisfied: huggingface-hub<1.0,>=0.24.0 in /usr/local/lib/python3.11/dist-packages (from transformers) (0.28.1)\n",
            "Requirement already satisfied: packaging>=20.0 in /usr/local/lib/python3.11/dist-packages (from transformers) (24.2)\n",
            "Requirement already satisfied: pyyaml>=5.1 in /usr/local/lib/python3.11/dist-packages (from transformers) (6.0.2)\n",
            "Requirement already satisfied: regex!=2019.12.17 in /usr/local/lib/python3.11/dist-packages (from transformers) (2024.11.6)\n",
            "Requirement already satisfied: requests in /usr/local/lib/python3.11/dist-packages (from transformers) (2.32.3)\n",
            "Requirement already satisfied: tokenizers<0.22,>=0.21 in /usr/local/lib/python3.11/dist-packages (from transformers) (0.21.0)\n",
            "Requirement already satisfied: safetensors>=0.4.1 in /usr/local/lib/python3.11/dist-packages (from transformers) (0.5.3)\n",
            "Requirement already satisfied: tqdm>=4.27 in /usr/local/lib/python3.11/dist-packages (from transformers) (4.67.1)\n",
            "Requirement already satisfied: joblib>=1.2.0 in /usr/local/lib/python3.11/dist-packages (from scikit-learn) (1.4.2)\n",
            "Requirement already satisfied: threadpoolctl>=3.1.0 in /usr/local/lib/python3.11/dist-packages (from scikit-learn) (3.5.0)\n",
            "Requirement already satisfied: contourpy>=1.0.1 in /usr/local/lib/python3.11/dist-packages (from matplotlib) (1.3.1)\n",
            "Requirement already satisfied: cycler>=0.10 in /usr/local/lib/python3.11/dist-packages (from matplotlib) (0.12.1)\n",
            "Requirement already satisfied: fonttools>=4.22.0 in /usr/local/lib/python3.11/dist-packages (from matplotlib) (4.56.0)\n",
            "Requirement already satisfied: kiwisolver>=1.3.1 in /usr/local/lib/python3.11/dist-packages (from matplotlib) (1.4.8)\n",
            "Requirement already satisfied: pillow>=8 in /usr/local/lib/python3.11/dist-packages (from matplotlib) (11.1.0)\n",
            "Requirement already satisfied: pyparsing>=2.3.1 in /usr/local/lib/python3.11/dist-packages (from matplotlib) (3.2.1)\n",
            "Requirement already satisfied: python-dateutil>=2.7 in /usr/local/lib/python3.11/dist-packages (from matplotlib) (2.8.2)\n",
            "Requirement already satisfied: fsspec>=2023.5.0 in /usr/local/lib/python3.11/dist-packages (from huggingface-hub<1.0,>=0.24.0->transformers) (2024.10.0)\n",
            "Requirement already satisfied: typing-extensions>=3.7.4.3 in /usr/local/lib/python3.11/dist-packages (from huggingface-hub<1.0,>=0.24.0->transformers) (4.12.2)\n",
            "Requirement already satisfied: six>=1.5 in /usr/local/lib/python3.11/dist-packages (from python-dateutil>=2.7->matplotlib) (1.17.0)\n",
            "Requirement already satisfied: charset-normalizer<4,>=2 in /usr/local/lib/python3.11/dist-packages (from requests->transformers) (3.4.1)\n",
            "Requirement already satisfied: idna<4,>=2.5 in /usr/local/lib/python3.11/dist-packages (from requests->transformers) (3.10)\n",
            "Requirement already satisfied: urllib3<3,>=1.21.1 in /usr/local/lib/python3.11/dist-packages (from requests->transformers) (2.3.0)\n",
            "Requirement already satisfied: certifi>=2017.4.17 in /usr/local/lib/python3.11/dist-packages (from requests->transformers) (2025.1.31)\n",
            "^C\n",
            "^C\n",
            "^C\n"
          ]
        }
      ]
    },
    {
      "cell_type": "code",
      "source": [
        "import torch\n",
        "import torchvision\n",
        "import timm\n",
        "import fastai\n",
        "import transformers\n",
        "\n",
        "print(\"All required packages are installed successfully!\")\n"
      ],
      "metadata": {
        "colab": {
          "base_uri": "https://localhost:8080/"
        },
        "id": "rLAdabBabO8j",
        "outputId": "aa5cefdc-ef41-481f-926f-328fa93894f5"
      },
      "execution_count": 1,
      "outputs": [
        {
          "output_type": "stream",
          "name": "stdout",
          "text": [
            "All required packages are installed successfully!\n"
          ]
        }
      ]
    },
    {
      "cell_type": "code",
      "source": [
        "#EXTRACT BERT EMBEDDINGS and STORE it in PICKLE FILE Tick_Sense_with_BERT.pkl for future processing\n",
        "\n",
        "import pandas as pd\n",
        "import numpy as np\n",
        "import torch\n",
        "import pickle\n",
        "from transformers import BertTokenizer, BertModel\n",
        "\n",
        "# Load dataset\n",
        "file_path = \"/content/sample_data/Tickets_500.csv\"  # Ensure correct file path\n",
        "df = pd.read_csv(file_path)\n",
        "\n",
        "# Ensure 'Issue' and 'Comments' columns exist\n",
        "if 'Issue' not in df.columns or 'Comments' not in df.columns:\n",
        "    raise ValueError(\"Columns 'Issue' and 'Comments' are required but not found in the dataset\")\n",
        "\n",
        "# Combine 'Issue' and 'Comments' into a single 'Context' column\n",
        "df[\"Context\"] = df[\"Issue\"].astype(str) + \" \" + df[\"Comments\"].astype(str)\n",
        "\n",
        "# Load pre-trained BERT model and tokenizer\n",
        "tokenizer = BertTokenizer.from_pretrained(\"bert-base-uncased\")\n",
        "model = BertModel.from_pretrained(\"bert-base-uncased\")\n",
        "\n",
        "# Function to extract BERT embeddings\n",
        "def get_bert_embedding(text):\n",
        "    tokens = tokenizer(text, return_tensors=\"pt\", padding=True, truncation=True, max_length=512)\n",
        "    with torch.no_grad():  # Correct syntax\n",
        "        output = model(**tokens)\n",
        "    return output.last_hidden_state[:, 0, :].squeeze().numpy()  # Extract the [CLS] token embedding\n",
        "\n",
        "# Apply embedding extraction to each row\n",
        "df[\"BERT_Embedding\"] = df[\"Context\"].apply(get_bert_embedding)\n",
        "\n",
        "# Convert embeddings to NumPy arrays for efficiency\n",
        "df[\"BERT_Embedding\"] = df[\"BERT_Embedding\"].apply(lambda x: np.array(x))\n",
        "\n",
        "# Save embeddings as a pickle file for future use\n",
        "pickle_file = \"Tick_Sense_with_BERT.pkl\"\n",
        "with open(pickle_file, \"wb\") as f:\n",
        "    pickle.dump(df[[\"TicketID\", \"Context\", \"BERT_Embedding\"]].to_dict(orient=\"records\"), f)\n",
        "\n",
        "# Save the dataset with embeddings as CSV for readability\n",
        "csv_file = \"Tick_Sense_with_BERT.csv\"\n",
        "df.to_csv(csv_file, index=False)\n",
        "\n",
        "# Display a sample of the dataset\n",
        "print(df[[\"TicketID\", \"Context\", \"BERT_Embedding\"]].head())\n",
        "\n",
        "print(f\"✅ Embeddings saved to {pickle_file} and {csv_file}\")\n"
      ],
      "metadata": {
        "colab": {
          "base_uri": "https://localhost:8080/"
        },
        "id": "mlmIucZ0cGOK",
        "outputId": "1f1b2aa9-0659-4551-be80-eec551414122"
      },
      "execution_count": 5,
      "outputs": [
        {
          "output_type": "stream",
          "name": "stdout",
          "text": [
            "  TicketID                                            Context  \\\n",
            "0  TKT-001  API integration issue with digital workflow Un...   \n",
            "1  TKT-002  Application error causing load time delays Res...   \n",
            "2  TKT-003  Order fulfillment system glitch Resolved succe...   \n",
            "3  TKT-004  Production scheduling conflict due to maintena...   \n",
            "4  TKT-005  Report generation delay in financial software ...   \n",
            "\n",
            "                                      BERT_Embedding  \n",
            "0  [-0.43294117, -0.111464374, -0.29116976, 0.001...  \n",
            "1  [-0.670982, -0.23809151, -0.29706144, -0.08609...  \n",
            "2  [-0.74749, -0.2602301, -0.27658617, 0.06448695...  \n",
            "3  [-0.7614497, -0.3289273, -0.27589008, -0.11410...  \n",
            "4  [-0.84584004, -0.33351955, -0.2173282, 0.09212...  \n",
            "✅ Embeddings saved to Tick_Sense_with_BERT.pkl and Tick_Sense_with_BERT.csv\n"
          ]
        }
      ]
    },
    {
      "cell_type": "code",
      "source": [
        "#If BERT throws Torch error use this - all-MiniLM-L6-v2 BERT model and STORE it in PICKLE FILE Tick_Sense_with_BERT.pkl for future processing\n",
        "\n",
        "import pandas as pd\n",
        "import numpy as np\n",
        "import pickle\n",
        "from sentence_transformers import SentenceTransformer\n",
        "\n",
        "# Load dataset (make sure this path is correct!)\n",
        "file_path = \"/content/sample_data/Tickets_500.csv\"\n",
        "df = pd.read_csv(file_path)\n",
        "\n",
        "# Combine 'Issue' and 'Comments' to create a context column\n",
        "df[\"Context\"] = df[\"Issue\"].astype(str) + \" \" + df[\"Comments\"].astype(str)\n",
        "\n",
        "# Load a lightweight, high-performance BERT-based model\n",
        "model = SentenceTransformer(\"all-MiniLM-L6-v2\")\n",
        "\n",
        "# Function to extract embeddings\n",
        "def get_bert_embedding(text):\n",
        "    return model.encode(text)\n",
        "\n",
        "# Apply embedding extraction to each row\n",
        "df[\"BERT_Embedding\"] = df[\"Context\"].apply(get_bert_embedding)\n",
        "\n",
        "# Convert embeddings to NumPy arrays (helps with performance)\n",
        "df[\"BERT_Embedding\"] = df[\"BERT_Embedding\"].apply(lambda x: np.array(x))\n",
        "\n",
        "# Save the dataset with embeddings (for future awesomeness)\n",
        "df.to_pickle(\"Tick_Sense_with_BERT.pkl\")\n",
        "\n",
        "# Save a CSV version for reference\n",
        "df.to_csv(\"Tick_Sense_with_BERT.csv\", index=False)\n",
        "\n",
        "# Show a sample to confirm everything looks good\n",
        "print(df[[\"TicketID\", \"Issue\", \"Context\", \"BERT_Embedding\"]].head())\n"
      ],
      "metadata": {
        "colab": {
          "base_uri": "https://localhost:8080/"
        },
        "id": "HwN6u5a6dqCj",
        "outputId": "d9832898-266c-4f62-8fe6-9118a15dcb41"
      },
      "execution_count": 30,
      "outputs": [
        {
          "output_type": "stream",
          "name": "stdout",
          "text": [
            "  TicketID                                              Issue  \\\n",
            "0  TKT-001        API integration issue with digital workflow   \n",
            "1  TKT-002         Application error causing load time delays   \n",
            "2  TKT-003                    Order fulfillment system glitch   \n",
            "3  TKT-004  Production scheduling conflict due to maintenance   \n",
            "4  TKT-005      Report generation delay in financial software   \n",
            "\n",
            "                                             Context  \\\n",
            "0  API integration issue with digital workflow Un...   \n",
            "1  Application error causing load time delays Res...   \n",
            "2  Order fulfillment system glitch Resolved succe...   \n",
            "3  Production scheduling conflict due to maintena...   \n",
            "4  Report generation delay in financial software ...   \n",
            "\n",
            "                                      BERT_Embedding  \n",
            "0  [-0.113638945, 0.051870923, -0.024474343, -0.0...  \n",
            "1  [-0.034618832, 0.041503116, 0.01629688, 0.0063...  \n",
            "2  [-0.012676158, -0.016483018, 0.076198876, -0.0...  \n",
            "3  [-0.074870996, 0.014423682, 0.09605885, 0.0420...  \n",
            "4  [-0.027831344, 0.0093117, -0.079747885, 0.0990...  \n"
          ]
        }
      ]
    },
    {
      "cell_type": "code",
      "source": [
        "\n",
        "import pandas as pd\n",
        "import numpy as np\n",
        "import torch\n",
        "import torch.nn as nn  # ✅ Import added\n",
        "import matplotlib.pyplot as plt\n",
        "import pickle\n",
        "\n",
        "# ✅ Step 1: Load Dataset with BERT Embeddings\n",
        "file_path = \"/content/Tick_Sense_with_BERT.pkl\"\n",
        "df = pd.read_pickle(file_path)\n",
        "# Convert list to DataFrame\n",
        "df = pd.DataFrame(df)\n",
        "print(\"In Here DataFrame columns:\", df.columns.tolist())\n",
        "# Verify it is now a DataFrame\n",
        "#print(type(df))  # Should print <class 'pandas.core.frame.DataFrame'>\n",
        "#print(df.head())  # Display the first few rows\n",
        "\n",
        "if \"BERT_Embedding\" not in df.columns:\n",
        "    raise ValueError(\"🚨 Column 'BERT_Embedding' not found in the dataset!\")\n",
        "\n",
        "\n",
        "def convert_to_numpy(x):\n",
        "    if isinstance(x, np.ndarray):\n",
        "        return x\n",
        "    elif isinstance(x, list):\n",
        "        return np.array(x)\n",
        "    elif isinstance(x, str):\n",
        "        return np.array(ast.literal_eval(x))  # Convert string representation of list to NumPy array\n",
        "    else:\n",
        "        raise TypeError(f\"Unexpected data type in BERT_Embedding: {type(x)}\")\n",
        "\n",
        "df[\"BERT_Embedding\"] = df[\"BERT_Embedding\"].apply(convert_to_numpy)\n",
        "\n",
        "# Stack embeddings into a single NumPy array\n",
        "embeddings = np.vstack(df[\"BERT_Embedding\"].values)\n",
        "\n",
        "print(\"✅ Successfully converted BERT embeddings!\")\n",
        "# Ensure embeddings are NumPy arrays\n",
        "df[\"BERT_Embedding\"] = df[\"BERT_Embedding\"].apply(lambda x: np.array(x))\n",
        "embeddings = np.vstack(df[\"BERT_Embedding\"].values)\n",
        "\n",
        "# ✅ Step 2: Define PyTorch-Based SOM Model\n",
        "class SOM(nn.Module):\n",
        "    def __init__(self, x_dim, y_dim, input_dim):\n",
        "        super(SOM, self).__init__()\n",
        "        self.x_dim = x_dim\n",
        "        self.y_dim = y_dim\n",
        "        self.input_dim = input_dim\n",
        "        self.weights = nn.Parameter(torch.randn(x_dim * y_dim, input_dim))\n",
        "\n",
        "        # Create the grid locations and register as a buffer\n",
        "        locs = torch.stack(torch.meshgrid(\n",
        "            torch.arange(x_dim), torch.arange(y_dim), indexing=\"ij\"\n",
        "        )).reshape(2, -1).T.float()\n",
        "        self.register_buffer(\"locations\", locs)\n",
        "\n",
        "    def forward(self, x):\n",
        "        # Compute pairwise distances between x and self.weights\n",
        "        distances = torch.cdist(x.unsqueeze(0), self.weights.unsqueeze(0)).squeeze(0)\n",
        "        return distances.argmin(dim=1)  # Best Matching Unit (BMU) index\n",
        "\n",
        "    def update_weights(self, x, bmu_index, lr, sigma):\n",
        "        bmu_index = bmu_index.view(-1)\n",
        "        bmu_location = self.locations[bmu_index]\n",
        "\n",
        "        # Compute distance between each SOM node and the BMU\n",
        "        distances = torch.norm(self.locations.unsqueeze(1) - bmu_location.unsqueeze(0), dim=2)\n",
        "        h = torch.exp(-distances**2 / (2 * sigma**2))\n",
        "\n",
        "        # Compute weight updates\n",
        "        diff = x.unsqueeze(0) - self.weights.unsqueeze(1)\n",
        "        update = (h.unsqueeze(2).expand_as(diff) * diff).sum(dim=1)\n",
        "        normalization = h.sum(dim=1, keepdim=True)\n",
        "\n",
        "        self.weights.data += lr * update / (normalization + 1e-8)  # Small epsilon to prevent division by zero\n",
        "\n",
        "\n",
        "# ✅ Step 3: Train SOM on GPU\n",
        "device = torch.device(\"cuda\" if torch.cuda.is_available() else \"cpu\")\n",
        "input_dim = embeddings.shape[1]\n",
        "som_size = 50  # 50x50 SOM Grid\n",
        "som = SOM(som_size, som_size, input_dim).to(device)\n",
        "\n",
        "# Convert data to PyTorch tensor and move to GPU if available\n",
        "data = torch.tensor(embeddings, dtype=torch.float32).to(device)\n",
        "\n",
        "# Training Parameters\n",
        "num_epochs_phase1 = 10  # Coarse Phase (Reduced for efficiency)\n",
        "num_epochs_phase2 = 10  # Fine-Tuning Phase\n",
        "lr_decay = 0.9999  # Gradual decay factor\n",
        "\n",
        "def train_som(som, data, epochs, lr_init, sigma_init):\n",
        "    lr = lr_init\n",
        "    sigma = sigma_init\n",
        "    for epoch in range(epochs):\n",
        "        bmu_index = som(data)\n",
        "        som.update_weights(data, bmu_index, lr, sigma)\n",
        "        lr *= lr_decay\n",
        "        sigma *= lr_decay\n",
        "\n",
        "        if epoch % (epochs // 10) == 0:\n",
        "            print(f\"Epoch {epoch}/{epochs} - Learning Rate: {lr:.6f}, Sigma: {sigma:.6f}\")\n",
        "\n",
        "# 🔹 **Phase 1: Coarse Training** (Establishes global structures)\n",
        "train_som(som, data, num_epochs_phase1, lr_init=0.5, sigma_init=10.0)\n",
        "\n",
        "# 🔹 **Phase 2: Fine-Tuning** (Refines local adjustments)\n",
        "train_som(som, data, num_epochs_phase2, lr_init=0.05, sigma_init=2.0)\n",
        "\n",
        "# ✅ Step 4: Assign Clusters Using SOM\n",
        "bmu_index = som(data).cpu().numpy()\n",
        "df[\"SOM_Cluster\"] = bmu_index\n",
        "\n",
        "# ✅ Ensure all original columns are kept before saving\n",
        "output_df = df.copy()  # Keep all columns (Issue, Comments, etc.)\n",
        "\n",
        "# ✅ Step 5: Save Clustered Data\n",
        "output_csv_path = f\"/content/PySOM_Clustered_Tickets_{num_epochs_phase1}_{num_epochs_phase2}.csv\"\n",
        "output_pickle_path = f\"/content/PySOM_Clustered_Tickets_{num_epochs_phase1}_{num_epochs_phase2}.pkl\"\n",
        "\n",
        "df.to_csv(output_csv_path, index=False)\n",
        "\n",
        "df.to_pickle(output_pickle_path)\n",
        "print(f\"Pickle file saved as '{output_pickle_path}'\")\n",
        "# ✅ Step 6: Visualize SOM Clustering\n",
        "plt.figure(figsize=(10, 6))\n",
        "plt.scatter(bmu_index % som_size, bmu_index // som_size, c=bmu_index, cmap=\"viridis\", alpha=0.7)\n",
        "plt.colorbar(label=\"Cluster\")\n",
        "plt.xlabel(\"SOM X Coordinate\")\n",
        "plt.ylabel(\"SOM Y Coordinate\")\n",
        "plt.title(\"Enhanced GPU-Accelerated SOM Clustering\")\n",
        "plt.show()\n",
        "\n",
        "# ✅ Move SOM model to CPU after training\n",
        "som.to(\"cpu\")\n",
        "data = data.cpu()  # Move dataset back to CPU if needed\n",
        "print(f\"✅ SOM model moved to CPU. Model is now on: {next(som.parameters()).device}\")\n",
        "\n",
        "print(f\"✅ Extended Training Completed! Data saved as CSV '{output_csv_path}'\")\n",
        "print(f\"✅ Extended Training Completed! Data saved as PKL '{output_pickle_path}'\")\n",
        "\n"
      ],
      "metadata": {
        "colab": {
          "base_uri": "https://localhost:8080/",
          "height": 1000
        },
        "collapsed": true,
        "id": "ADWaRA33d-Q9",
        "outputId": "84532660-15d6-432f-d2f4-cb8a632bcf71"
      },
      "execution_count": 31,
      "outputs": [
        {
          "output_type": "stream",
          "name": "stdout",
          "text": [
            "In Here DataFrame columns: ['TicketID', 'DateCreated', 'TicketType', 'SubmittedBy', 'InvolvedRole', 'Issue', 'Priority', 'Status', 'Comments', 'RelatedStrategicGoals', 'Context', 'BERT_Embedding']\n",
            "✅ Successfully converted BERT embeddings!\n",
            "Epoch 0/10 - Learning Rate: 0.499950, Sigma: 9.999000\n",
            "Epoch 1/10 - Learning Rate: 0.499900, Sigma: 9.998000\n",
            "Epoch 2/10 - Learning Rate: 0.499850, Sigma: 9.997000\n",
            "Epoch 3/10 - Learning Rate: 0.499800, Sigma: 9.996001\n",
            "Epoch 4/10 - Learning Rate: 0.499750, Sigma: 9.995001\n",
            "Epoch 5/10 - Learning Rate: 0.499700, Sigma: 9.994001\n",
            "Epoch 6/10 - Learning Rate: 0.499650, Sigma: 9.993002\n",
            "Epoch 7/10 - Learning Rate: 0.499600, Sigma: 9.992003\n",
            "Epoch 8/10 - Learning Rate: 0.499550, Sigma: 9.991004\n",
            "Epoch 9/10 - Learning Rate: 0.499500, Sigma: 9.990004\n",
            "Epoch 0/10 - Learning Rate: 0.049995, Sigma: 1.999800\n",
            "Epoch 1/10 - Learning Rate: 0.049990, Sigma: 1.999600\n",
            "Epoch 2/10 - Learning Rate: 0.049985, Sigma: 1.999400\n",
            "Epoch 3/10 - Learning Rate: 0.049980, Sigma: 1.999200\n",
            "Epoch 4/10 - Learning Rate: 0.049975, Sigma: 1.999000\n",
            "Epoch 5/10 - Learning Rate: 0.049970, Sigma: 1.998800\n",
            "Epoch 6/10 - Learning Rate: 0.049965, Sigma: 1.998600\n",
            "Epoch 7/10 - Learning Rate: 0.049960, Sigma: 1.998401\n",
            "Epoch 8/10 - Learning Rate: 0.049955, Sigma: 1.998201\n",
            "Epoch 9/10 - Learning Rate: 0.049950, Sigma: 1.998001\n",
            "Pickle file saved as '/content/PySOM_Clustered_Tickets_10_10.pkl'\n"
          ]
        },
        {
          "output_type": "display_data",
          "data": {
            "text/plain": [
              "<Figure size 1000x600 with 2 Axes>"
            ],
            "image/png": "[encoded data removed]"
          },
          "metadata": {}
        },
        {
          "output_type": "stream",
          "name": "stdout",
          "text": [
            "✅ SOM model moved to CPU. Model is now on: cpu\n",
            "✅ Extended Training Completed! Data saved as CSV '/content/PySOM_Clustered_Tickets_10_10.csv'\n",
            "✅ Extended Training Completed! Data saved as PKL '/content/PySOM_Clustered_Tickets_10_10.pkl'\n"
          ]
        }
      ]
    },
    {
      "cell_type": "code",
      "source": [
        "print(\"DataFrame Columns:\", df.columns.tolist())\n"
      ],
      "metadata": {
        "colab": {
          "base_uri": "https://localhost:8080/"
        },
        "id": "fCTcoMwJySvf",
        "outputId": "2398f265-d6de-4aec-d5d4-6604ff467cbf"
      },
      "execution_count": 32,
      "outputs": [
        {
          "output_type": "stream",
          "name": "stdout",
          "text": [
            "DataFrame Columns: ['TicketID', 'DateCreated', 'TicketType', 'SubmittedBy', 'InvolvedRole', 'Issue', 'Priority', 'Status', 'Comments', 'RelatedStrategicGoals', 'Context', 'BERT_Embedding', 'SOM_Cluster']\n"
          ]
        }
      ]
    },
    {
      "cell_type": "code",
      "source": [
        "# LABELING USING HBDSCAN AND TF_IDF on TOP of it\n",
        "import os\n",
        "import pandas as pd\n",
        "import numpy as np\n",
        "import hdbscan\n",
        "from sklearn.feature_extraction.text import TfidfVectorizer\n",
        "\n",
        "##############################################################################\n",
        "# 1. Specify the input pickle file\n",
        "##############################################################################\n",
        "input_pickle_path = \"/content/PySOM_Clustered_Tickets_10_10.pkl\"\n",
        "\n",
        "# Derive base name without extension, e.g. \"PySOM_Clustered_Tickets_10_10\"\n",
        "base_name = os.path.splitext(os.path.basename(input_pickle_path))[0]\n",
        "\n",
        "# Construct output file names based on the base name\n",
        "output_csv_path = f\"/content/{base_name}_Label.csv\"\n",
        "output_pickle_path = f\"/content/{base_name}_Label.pkl\"\n",
        "\n",
        "##############################################################################\n",
        "# 2. Load the data from the pickle (assumes \"BERT_Embedding\" and \"Context\")\n",
        "##############################################################################\n",
        "df = pd.read_pickle(input_pickle_path)\n",
        "\n",
        "def parse_embedding(x):\n",
        "    \"\"\"Convert a string-based embedding into a NumPy array, if needed.\"\"\"\n",
        "    if isinstance(x, str):\n",
        "        parts = x.strip(\"[]\").split()\n",
        "        return np.array([float(val) for val in parts])\n",
        "    return np.array(x)\n",
        "\n",
        "# Apply conversion if necessary\n",
        "df[\"BERT_Embedding_Parsed\"] = df[\"BERT_Embedding\"].apply(parse_embedding)\n",
        "\n",
        "##############################################################################\n",
        "# 3. Create a matrix of embeddings of shape (N, 768)\n",
        "##############################################################################\n",
        "embeddings = np.vstack(df[\"BERT_Embedding_Parsed\"].values)\n",
        "\n",
        "##############################################################################\n",
        "# 4. Run HDBSCAN on the embedding matrix\n",
        "##############################################################################\n",
        "clusterer = hdbscan.HDBSCAN(min_cluster_size=5)  # Adjust parameters as needed\n",
        "hdbscan_labels = clusterer.fit_predict(embeddings)\n",
        "df[\"HDBSCAN_Cluster\"] = hdbscan_labels\n",
        "\n",
        "##############################################################################\n",
        "# 5. For each HDBSCAN cluster, compute top words using TF-IDF on the \"Context\"\n",
        "##############################################################################\n",
        "cluster_tf_idf_labels = {}\n",
        "unique_clusters = np.unique(hdbscan_labels)\n",
        "\n",
        "for cluster in unique_clusters:\n",
        "    # Documents in this cluster\n",
        "    doc_indices = np.where(hdbscan_labels == cluster)[0]\n",
        "    texts = df.iloc[doc_indices][\"Context\"].tolist()\n",
        "    if not texts:\n",
        "        continue\n",
        "\n",
        "    # TF-IDF\n",
        "    vectorizer = TfidfVectorizer(stop_words=\"english\", max_features=50)\n",
        "    tfidf_matrix = vectorizer.fit_transform(texts)\n",
        "\n",
        "    # Sum TF-IDF scores across all docs in cluster\n",
        "    word_scores = np.asarray(tfidf_matrix.sum(axis=0)).flatten()\n",
        "    vocab = vectorizer.get_feature_names_out()\n",
        "\n",
        "    # Sort words by descending TF-IDF\n",
        "    words_with_scores = sorted(zip(vocab, word_scores), key=lambda x: x[1], reverse=True)\n",
        "\n",
        "    # Pick the top 5 words\n",
        "    top_words = [word for word, score in words_with_scores[:5]]\n",
        "    cluster_tf_idf_labels[cluster] = \", \".join(top_words)\n",
        "\n",
        "df[\"HDBSCAN_Label\"] = df[\"HDBSCAN_Cluster\"].map(cluster_tf_idf_labels)\n",
        "df[\"Top_Term\"] = df[\"HDBSCAN_Label\"].apply(lambda x: x.split(\",\")[0] if isinstance(x, str) and x else \"No Label\")\n",
        "\n",
        "\n",
        "##############################################################################\n",
        "# 6. Save the updated DataFrame with the derived filenames\n",
        "##############################################################################\n",
        "df.to_csv(output_csv_path, index=False)\n",
        "print(f\"CSV file saved as '{output_csv_path}'\")\n",
        "\n",
        "df.to_pickle(output_pickle_path)\n",
        "print(f\"Pickle file saved as '{output_pickle_path}'\")\n"
      ],
      "metadata": {
        "colab": {
          "base_uri": "https://localhost:8080/"
        },
        "id": "FS9smroSo46P",
        "outputId": "e620952e-4c3d-4c7e-e401-121775e4dab1"
      },
      "execution_count": 37,
      "outputs": [
        {
          "output_type": "stream",
          "name": "stderr",
          "text": [
            "/usr/local/lib/python3.11/dist-packages/sklearn/utils/deprecation.py:151: FutureWarning: 'force_all_finite' was renamed to 'ensure_all_finite' in 1.6 and will be removed in 1.8.\n",
            "  warnings.warn(\n",
            "/usr/local/lib/python3.11/dist-packages/sklearn/utils/deprecation.py:151: FutureWarning: 'force_all_finite' was renamed to 'ensure_all_finite' in 1.6 and will be removed in 1.8.\n",
            "  warnings.warn(\n"
          ]
        },
        {
          "output_type": "stream",
          "name": "stdout",
          "text": [
            "CSV file saved as '/content/PySOM_Clustered_Tickets_10_10_Label.csv'\n",
            "Pickle file saved as '/content/PySOM_Clustered_Tickets_10_10_Label.pkl'\n"
          ]
        }
      ]
    },
    {
      "cell_type": "code",
      "source": [
        "print(\"DataFrame Columns:\", df.columns.tolist())"
      ],
      "metadata": {
        "colab": {
          "base_uri": "https://localhost:8080/"
        },
        "id": "-dLvjaLrfMrm",
        "outputId": "a74c80d1-3371-4e65-ab0a-ee75a037c8fb"
      },
      "execution_count": 38,
      "outputs": [
        {
          "output_type": "stream",
          "name": "stdout",
          "text": [
            "DataFrame Columns: ['TicketID', 'DateCreated', 'TicketType', 'SubmittedBy', 'InvolvedRole', 'Issue', 'Priority', 'Status', 'Comments', 'RelatedStrategicGoals', 'Context', 'BERT_Embedding', 'SOM_Cluster', 'BERT_Embedding_Parsed', 'HDBSCAN_Cluster', 'HDBSCAN_Label', 'Top_Term']\n"
          ]
        }
      ]
    },
    {
      "cell_type": "code",
      "source": [
        "#SQUARE POLYGON\n",
        "import json\n",
        "\n",
        "##############################################################################\n",
        "# Section 2.4: Geometric Transformations\n",
        "##############################################################################\n",
        "\n",
        "# 1) Create a square polygon for each SOM node in a 50x50 grid\n",
        "def square_polygon(r, c):\n",
        "    \"\"\"\n",
        "    Return the corners of a 1x1 square for the node at row=r, col=c.\n",
        "    Coordinates are [x, y].\n",
        "    We'll keep row as the y-axis and column as the x-axis for consistency.\n",
        "    \"\"\"\n",
        "    return [\n",
        "        [c,     r    ],\n",
        "        [c + 1, r    ],\n",
        "        [c + 1, r + 1],\n",
        "        [c,     r + 1],\n",
        "        [c,     r    ]  # repeat the first corner to close the polygon\n",
        "    ]\n",
        "\n",
        "features = []\n",
        "for r in range(som_size):\n",
        "    for c in range(som_size):\n",
        "        node_id = r * som_size + c  # flatten (r, c) if you like\n",
        "        polygon_coords = square_polygon(r, c)\n",
        "\n",
        "        feature = {\n",
        "            \"type\": \"Feature\",\n",
        "            \"geometry\": {\n",
        "                \"type\": \"Polygon\",\n",
        "                \"coordinates\": [polygon_coords]  # a single ring\n",
        "            },\n",
        "            \"properties\": {\n",
        "                \"node_id\": node_id,\n",
        "                \"row\": r,\n",
        "                \"col\": c\n",
        "                # (Optional) Add custom properties, e.g. top words\n",
        "            }\n",
        "        }\n",
        "        features.append(feature)\n",
        "\n",
        "geojson_data = {\n",
        "    \"type\": \"FeatureCollection\",\n",
        "    \"features\": features\n",
        "}\n",
        "\n",
        "with open(\"som_nodes.geojson\", \"w\") as f:\n",
        "    json.dump(geojson_data, f, indent=2)\n",
        "print(\"✅ Created 'som_nodes.geojson' with 2,500 square polygons (50x50)!\")\n",
        "\n",
        "\n",
        "# 2) Create a point feature for each ticket at or near its BMU center\n",
        "ticket_features = []\n",
        "for i, row in df.iterrows():\n",
        "    node_id = row[\"SOM_Cluster\"]\n",
        "    r = node_id // som_size  # Convert node_id back to (row, col)\n",
        "    c = node_id % som_size\n",
        "\n",
        "    x_center = c + 0.5  # Center of the square\n",
        "    y_center = r + 0.5\n",
        "\n",
        "    # Convert row to dictionary while ensuring all values are JSON serializable\n",
        "    properties = {}\n",
        "    for col, value in row.items():\n",
        "        if col == \"BERT_Embedding_Parsed\":  # ❌ Exclude BERT_Embedding_Parsed\n",
        "            continue\n",
        "        if col == \"BERT_Embedding\":  # ❌ Exclude BERT_Embedding_Parsed\n",
        "            continue\n",
        "        if isinstance(value, np.ndarray):  # Convert NumPy arrays to lists\n",
        "            properties[col] = value.tolist()\n",
        "        else:\n",
        "            properties[col] = value  # Keep other values unchanged\n",
        "\n",
        "    properties[\"SOM_Cluster\"] = int(node_id)  # Ensure SOM_Cluster is an int\n",
        "\n",
        "    # Build a GeoJSON point\n",
        "    feature = {\n",
        "        \"type\": \"Feature\",\n",
        "        \"geometry\": {\n",
        "            \"type\": \"Point\",\n",
        "            \"coordinates\": [x_center, y_center]\n",
        "        },\n",
        "        \"properties\": properties  # Attach all row data except BERT_Embedding\n",
        "    }\n",
        "    ticket_features.append(feature)\n",
        "\n",
        "# Create GeoJSON object\n",
        "tickets_geojson = {\n",
        "    \"type\": \"FeatureCollection\",\n",
        "    \"features\": ticket_features\n",
        "}\n",
        "\n",
        "# Save to file\n",
        "output_geojson_path = \"som_tickets.geojson\"\n",
        "with open(output_geojson_path, \"w\") as f:\n",
        "    json.dump(tickets_geojson, f, indent=2)\n",
        "\n",
        "print(f\"✅ Created '{output_geojson_path}' with all columns except 'BERT_Embedding'!\")\n",
        "\n"
      ],
      "metadata": {
        "colab": {
          "base_uri": "https://localhost:8080/"
        },
        "id": "IfkupY84Yait",
        "outputId": "301b9b73-5992-41e4-def9-fd706b1bdfcf"
      },
      "execution_count": 45,
      "outputs": [
        {
          "output_type": "stream",
          "name": "stdout",
          "text": [
            "✅ Created 'som_nodes.geojson' with 2,500 square polygons (50x50)!\n",
            "✅ Created 'som_tickets.geojson' with all columns except 'BERT_Embedding'!\n"
          ]
        }
      ]
    },
    {
      "cell_type": "code",
      "source": [
        "# HEXAGON\n",
        "import json\n",
        "import numpy as np\n",
        "import pandas as pd\n",
        "\n",
        "# SOM Grid Size\n",
        "som_size = 50  # 50x50 SOM Grid\n",
        "hex_radius = 1  # Controls hexagon size\n",
        "\n",
        "# Function to create a hexagon centered at (cx, cy)\n",
        "def hexagon_polygon(cx, cy, radius=1):\n",
        "    \"\"\"Returns hexagon coordinates centered at (cx, cy).\"\"\"\n",
        "    angle_deg = np.arange(0, 360, 60)  # 6 points\n",
        "    angle_rad = np.deg2rad(angle_deg)\n",
        "    return [[cx + radius * np.cos(a), cy + radius * np.sin(a)] for a in angle_rad] + [[cx + radius * np.cos(0), cy + radius * np.sin(0)]]  # Close the hexagon\n",
        "\n",
        "# Create hexagon GeoJSON features\n",
        "features = []\n",
        "for r in range(som_size):\n",
        "    for c in range(som_size):\n",
        "        node_id = r * som_size + c  # Flatten (r, c) for node ID\n",
        "        cx = c * 1.5  # X center shift for hexagonal grid\n",
        "        cy = r * np.sqrt(3)  # Y center shift\n",
        "        polygon_coords = hexagon_polygon(cx, cy, hex_radius)\n",
        "\n",
        "        feature = {\n",
        "            \"type\": \"Feature\",\n",
        "            \"geometry\": {\n",
        "                \"type\": \"Polygon\",\n",
        "                \"coordinates\": [polygon_coords]  # Hexagon as a polygon\n",
        "            },\n",
        "            \"properties\": {\n",
        "                \"node_id\": node_id,\n",
        "                \"row\": r,\n",
        "                \"col\": c\n",
        "            }\n",
        "        }\n",
        "        features.append(feature)\n",
        "\n",
        "# Export to GeoJSON\n",
        "hex_geojson = {\n",
        "    \"type\": \"FeatureCollection\",\n",
        "    \"features\": features\n",
        "}\n",
        "with open(\"som_nodes_hex.geojson\", \"w\") as f:\n",
        "    json.dump(hex_geojson, f, indent=2)\n",
        "\n",
        "print(\"✅ Created 'som_nodes_hex.geojson' with 2,500 hexagons (50x50)!\")\n"
      ],
      "metadata": {
        "colab": {
          "base_uri": "https://localhost:8080/"
        },
        "id": "JLc-ieGrl7Cr",
        "outputId": "1bbb5846-1582-4466-a971-14fcbe755692"
      },
      "execution_count": 46,
      "outputs": [
        {
          "output_type": "stream",
          "name": "stdout",
          "text": [
            "✅ Created 'som_nodes_hex.geojson' with 2,500 hexagons (50x50)!\n"
          ]
        }
      ]
    },
    {
      "cell_type": "code",
      "source": [
        "# Load SOM-clustered dataset\n",
        "df = pd.read_pickle(\"/content/PySOM_Clustered_Tickets_10_10.pkl\")\n",
        "\n",
        "# Place documents at hexagon centers\n",
        "ticket_features = []\n",
        "for i, row in df.iterrows():\n",
        "    node_id = row[\"SOM_Cluster\"]\n",
        "    r = node_id // som_size  # Convert node_id back to (row, col)\n",
        "    c = node_id % som_size\n",
        "\n",
        "    cx = c * 1.5  # X coordinate shift for hexagons\n",
        "    cy = r * np.sqrt(3)  # Y coordinate shift\n",
        "\n",
        "    # Convert row to dictionary but exclude 'BERT_Embedding'\n",
        "    properties = {col: row[col] for col in df.columns if col != \"BERT_Embedding\"}\n",
        "    properties[\"SOM_Cluster\"] = int(node_id)  # Ensure integer cluster\n",
        "\n",
        "    feature = {\n",
        "        \"type\": \"Feature\",\n",
        "        \"geometry\": {\n",
        "            \"type\": \"Point\",\n",
        "            \"coordinates\": [cx, cy]\n",
        "        },\n",
        "        \"properties\": properties\n",
        "    }\n",
        "    ticket_features.append(feature)\n",
        "\n",
        "# Export ticket points to GeoJSON\n",
        "tickets_geojson = {\n",
        "    \"type\": \"FeatureCollection\",\n",
        "    \"features\": ticket_features\n",
        "}\n",
        "with open(\"som_tickets_hex.geojson\", \"w\") as f:\n",
        "    json.dump(tickets_geojson, f, indent=2)\n",
        "\n",
        "print(\"✅ Created 'som_tickets_hex.geojson' with document points!\")\n"
      ],
      "metadata": {
        "colab": {
          "base_uri": "https://localhost:8080/"
        },
        "id": "sJOM8cRUmAJx",
        "outputId": "04f6e1ca-ccbf-4eaf-e2c4-596e29981f35"
      },
      "execution_count": 49,
      "outputs": [
        {
          "output_type": "stream",
          "name": "stdout",
          "text": [
            "✅ Created 'som_tickets_hex.geojson' with document points!\n"
          ]
        }
      ]
    },
    {
      "cell_type": "code",
      "source": [
        "!pip install pydeck\n"
      ],
      "metadata": {
        "colab": {
          "base_uri": "https://localhost:8080/"
        },
        "id": "tiCGQFlCm5GB",
        "outputId": "8a7e02af-b5e5-4090-94e5-ebb0a5b67f88"
      },
      "execution_count": 52,
      "outputs": [
        {
          "output_type": "stream",
          "name": "stdout",
          "text": [
            "Collecting pydeck\n",
            "  Downloading pydeck-0.9.1-py2.py3-none-any.whl.metadata (4.1 kB)\n",
            "Requirement already satisfied: jinja2>=2.10.1 in /usr/local/lib/python3.11/dist-packages (from pydeck) (3.1.5)\n",
            "Requirement already satisfied: numpy>=1.16.4 in /usr/local/lib/python3.11/dist-packages (from pydeck) (1.26.4)\n",
            "Requirement already satisfied: MarkupSafe>=2.0 in /usr/local/lib/python3.11/dist-packages (from jinja2>=2.10.1->pydeck) (3.0.2)\n",
            "Downloading pydeck-0.9.1-py2.py3-none-any.whl (6.9 MB)\n",
            "\u001b[2K   \u001b[90m━━━━━━━━━━━━━━━━━━━━━━━━━━━━━━━━━━━━━━━━\u001b[0m \u001b[32m6.9/6.9 MB\u001b[0m \u001b[31m28.8 MB/s\u001b[0m eta \u001b[36m0:00:00\u001b[0m\n",
            "\u001b[?25hInstalling collected packages: pydeck\n",
            "Successfully installed pydeck-0.9.1\n"
          ]
        }
      ]
    },
    {
      "cell_type": "code",
      "source": [
        "import pydeck as pdk\n",
        "\n",
        "# Load hexagons & ticket points\n",
        "hex_layer = pdk.Layer(\n",
        "    \"GeoJsonLayer\",\n",
        "    \"som_nodes_hex.geojson\",\n",
        "    opacity=0.5,\n",
        "    stroked=False,\n",
        "    filled=True,\n",
        "    extruded=True,\n",
        "    wireframe=True,\n",
        "    get_elevation=1,  # Change to control height\n",
        "    get_fill_color=[200, 30, 30, 50]  # Semi-transparent red\n",
        ")\n",
        "\n",
        "points_layer = pdk.Layer(\n",
        "    \"GeoJsonLayer\",\n",
        "    \"som_tickets_hex.geojson\",\n",
        "    opacity=0.8,\n",
        "    stroked=True,\n",
        "    filled=True,\n",
        "    get_fill_color=[0, 0, 200, 150],  # Blue dots\n",
        "    get_radius=10  # Adjust point size\n",
        ")\n",
        "\n",
        "# View setup\n",
        "view_state = pdk.ViewState(\n",
        "    latitude=som_size * 0.5,\n",
        "    longitude=som_size * 0.5,\n",
        "    zoom=3,\n",
        "    pitch=30\n",
        ")\n",
        "\n",
        "# Render\n",
        "pdk.Deck(layers=[hex_layer, points_layer], initial_view_state=view_state).show()\n"
      ],
      "metadata": {
        "colab": {
          "resources": {
            "http://localhost:8080/som_nodes_hex.geojson": {
              "data": "",
              "ok": false,
              "headers": [
                [
                  "content-length",
                  "0"
                ]
              ],
              "status": 404,
              "status_text": ""
            },
            "http://localhost:8080/som_tickets_hex.geojson": {
              "data": "",
              "ok": false,
              "headers": [
                [
                  "content-length",
                  "0"
                ]
              ],
              "status": 404,
              "status_text": ""
            }
          },
          "base_uri": "https://localhost:8080/",
          "height": 500
        },
        "id": "2I7_YYYCmdPa",
        "outputId": "73a77fde-fc67-4fea-c3ec-2ac26401f431"
      },
      "execution_count": 54,
      "outputs": [
        {
          "output_type": "display_data",
          "data": {
            "text/plain": [
              "<IPython.core.display.Javascript object>"
            ],
            "application/javascript": [
              "google.colab.output.setIframeHeight(500, true, {minHeight: 500, maxHeight: 500})"
            ]
          },
          "metadata": {}
        },
        {
          "output_type": "display_data",
          "data": {
            "text/plain": [
              "<IPython.core.display.HTML object>"
            ],
            "text/html": [
              "<!DOCTYPE html>\n",
              "<html>\n",
              "  <head>\n",
              "    <meta http-equiv=\"content-type\" content=\"text/html; charset=UTF-8\" />\n",
              "    <title>pydeck</title>\n",
              "        <script src=\"https://api.tiles.mapbox.com/mapbox-gl-js/v1.13.0/mapbox-gl.js\"></script>\n",
              "        <link rel=\"stylesheet\" href=\"https://maxcdn.bootstrapcdn.com/bootstrap/3.2.0/css/bootstrap-theme.min.css\" />\n",
              "    <link rel=\"stylesheet\" href=\"https://maxcdn.bootstrapcdn.com/font-awesome/4.6.3/css/font-awesome.min.css\" />\n",
              "    <script src='https://cdn.jsdelivr.net/npm/@deck.gl/jupyter-widget@~9.0.*/dist/index.js'></script>\n",
              "    <style>\n",
              "    body {\n",
              "  margin: 0;\n",
              "  padding: 0;\n",
              "  overflow: hidden;\n",
              "}\n",
              "\n",
              "#deck-container {\n",
              "  width: 100vw;\n",
              "  height: 100vh;\n",
              "}\n",
              "\n",
              "#deck-container canvas {\n",
              "  z-index: 1;\n",
              "  background: none;\n",
              "}\n",
              "    </style>\n",
              "  </head>\n",
              "  <body>\n",
              "    <div id=\"deck-container\">\n",
              "    </div>\n",
              "  </body>\n",
              "  <script>\n",
              "    const container = document.getElementById('deck-container');\n",
              "    const jsonInput = {\n",
              "  \"initialViewState\": {\n",
              "    \"latitude\": 25.0,\n",
              "    \"longitude\": 25.0,\n",
              "    \"pitch\": 30,\n",
              "    \"zoom\": 3\n",
              "  },\n",
              "  \"layers\": [\n",
              "    {\n",
              "      \"@@type\": \"GeoJsonLayer\",\n",
              "      \"data\": \"som_nodes_hex.geojson\",\n",
              "      \"extruded\": true,\n",
              "      \"filled\": true,\n",
              "      \"getElevation\": 1,\n",
              "      \"getFillColor\": [\n",
              "        200,\n",
              "        30,\n",
              "        30,\n",
              "        50\n",
              "      ],\n",
              "      \"id\": \"4210c6a4-8e9a-41c5-9370-0f1bce06ba60\",\n",
              "      \"opacity\": 0.5,\n",
              "      \"stroked\": false,\n",
              "      \"wireframe\": true\n",
              "    },\n",
              "    {\n",
              "      \"@@type\": \"GeoJsonLayer\",\n",
              "      \"data\": \"som_tickets_hex.geojson\",\n",
              "      \"filled\": true,\n",
              "      \"getFillColor\": [\n",
              "        0,\n",
              "        0,\n",
              "        200,\n",
              "        150\n",
              "      ],\n",
              "      \"getRadius\": 10,\n",
              "      \"id\": \"26c9ce78-2f8c-40c7-8691-3145a59ed493\",\n",
              "      \"opacity\": 0.8,\n",
              "      \"stroked\": true\n",
              "    }\n",
              "  ],\n",
              "  \"mapProvider\": \"carto\",\n",
              "  \"mapStyle\": \"https://basemaps.cartocdn.com/gl/dark-matter-gl-style/style.json\",\n",
              "  \"views\": [\n",
              "    {\n",
              "      \"@@type\": \"MapView\",\n",
              "      \"controller\": true\n",
              "    }\n",
              "  ]\n",
              "};\n",
              "    const tooltip = true;\n",
              "    const customLibraries = null;\n",
              "    const configuration = null;\n",
              "\n",
              "    const deckInstance = createDeck({\n",
              "                  container,\n",
              "      jsonInput,\n",
              "      tooltip,\n",
              "      customLibraries,\n",
              "      configuration\n",
              "    });\n",
              "\n",
              "  </script>\n",
              "</html>"
            ]
          },
          "metadata": {}
        }
      ]
    }
  ]
}